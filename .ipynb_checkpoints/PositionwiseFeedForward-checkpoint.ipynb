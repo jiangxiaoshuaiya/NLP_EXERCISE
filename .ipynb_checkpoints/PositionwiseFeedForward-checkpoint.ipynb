{
 "cells": [
  {
   "cell_type": "code",
   "execution_count": 1,
   "metadata": {},
   "outputs": [],
   "source": [
    "import torch\n",
    "import torch.nn as nn"
   ]
  },
  {
   "cell_type": "code",
   "execution_count": 2,
   "metadata": {},
   "outputs": [],
   "source": [
    "class PositionwiseFeedForward(nn.Module):\n",
    "    def __init__(self, model_dim=512, ffn_dim=2048):\n",
    "        super(PositionwiseFeedFoward, self).__init__()\n",
    "        self.linear1 = nn.Linear(model_dim, ffn_dim)\n",
    "        self.linear2 = nn.Linear(ffn_dim, model_dim)\n",
    "        self.layer_norm = nn.LayerNorm(model_dim)\n",
    "        \n",
    "    def foward(self, x):\n",
    "        \n",
    "        output = self.linear1(x)\n",
    "        output = self.linear2(F.relu(output))\n",
    "        output = self.layer_norm(output + residual)\n",
    "        \n",
    "        return output\n"
   ]
  },
  {
   "cell_type": "code",
   "execution_count": null,
   "metadata": {},
   "outputs": [],
   "source": []
  }
 ],
 "metadata": {
  "kernelspec": {
   "display_name": "Python 3",
   "language": "python",
   "name": "python3"
  },
  "language_info": {
   "codemirror_mode": {
    "name": "ipython",
    "version": 3
   },
   "file_extension": ".py",
   "mimetype": "text/x-python",
   "name": "python",
   "nbconvert_exporter": "python",
   "pygments_lexer": "ipython3",
   "version": "3.7.4"
  }
 },
 "nbformat": 4,
 "nbformat_minor": 2
}
